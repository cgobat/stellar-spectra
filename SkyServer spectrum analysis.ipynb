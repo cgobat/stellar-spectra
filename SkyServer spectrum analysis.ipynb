{
 "cells": [
  {
   "cell_type": "code",
   "execution_count": 1,
   "metadata": {},
   "outputs": [],
   "source": [
    "%matplotlib inline\n",
    "import numpy as np, pandas as pd, matplotlib.pyplot as plt, os\n",
    "from scipy.optimize import curve_fit"
   ]
  },
  {
   "cell_type": "code",
   "execution_count": 2,
   "metadata": {},
   "outputs": [],
   "source": [
    "full_catalog = pd.read_csv('SDSS12query_TOP99999.csv') # this has been culled to only include stars with observed spectra with a quality rating of 3 (max)\n",
    "full_catalog.rename(columns={'RA_ICRS': 'RA','DE_ICRS': 'DE','class': 'sourcetype','Q': 'quality','Sp-ID': 'SpID'}, inplace=True)\n",
    "#catalog.dropna(subset=['SpID'], inplace=True) # if it doesn't have a spectrum, drop it\n",
    "#filtered_catalog = catalog.query('sourcetype == 6 and quality == 3') # only care about stars with high quality observations\n",
    "ugriz = {'umag':355.1,'gmag':468.6,'rmag':616.5,'imag':748.1,'zmag':893.1}\n",
    "#see https://en.wikipedia.org/wiki/Photometric_system for info on ugriz band letters"
   ]
  },
  {
   "cell_type": "code",
   "execution_count": 3,
   "metadata": {},
   "outputs": [],
   "source": [
    "objList = full_catalog.drop(['pmRA','pmDE','ObsDate'],axis=1)\n",
    "#print(objList)\n",
    "objIndex = np.random.randint(len(objList)) # pick a star to analyze\n",
    "SpID = objList.loc[objIndex,'SpID'] # parse plate, mjd, and fiber info"
   ]
  },
  {
   "cell_type": "code",
   "execution_count": 4,
   "metadata": {},
   "outputs": [],
   "source": [
    "SpID = \"4004-55321-0026\" # reassign SpID manually for testing purposes\n",
    "\n",
    "plateid = SpID.split('-')[0]\n",
    "mjd = SpID.split('-')[1]\n",
    "fiberid = int(SpID.split('-')[2])\n",
    "\n",
    "url = (\"https://dr15.sdss.org/optical/spectrum/view/data/format=csv/spec=lite?plateid=%s&mjd=%s&fiberid=%s\" %(plateid,mjd,fiberid))\n",
    "#url = \"1237651203158310973_spectrum.csv\" # cached spectra for offline access\n",
    "spectrum = pd.read_csv(url)\n",
    "\n",
    "# dataframe reformatting:\n",
    "spectrum.drop(['SkyFlux'],axis=1,inplace=True) # drop the SkyFlux data; it's irrelevant\n",
    "spectrum.drop(['Flux'],axis=1,inplace=True) # drop the hard measurement of flux; the computed BestFit is more useful\n",
    "spectrum.rename(columns={'Wavelength': 'λ', 'BestFit': 'Flux'}, inplace=True) # rename the remaining columns\n",
    "for i in range(len(spectrum['λ'])): spectrum['λ'][i] = spectrum['λ'][i]/10 # convert from Angstroms to nanometers\n",
    "for i in range(len(spectrum['Flux'])): spectrum['Flux'][i] = spectrum['Flux'][i]*1e-17*1e-7/1e-4/0.1 # *coefficient*erg-joule/cm2-m2/Ang-nm"
   ]
  },
  {
   "cell_type": "code",
   "execution_count": 5,
   "metadata": {},
   "outputs": [
    {
     "name": "stdout",
     "output_type": "stream",
     "text": [
      "Data retrieved from https://dr15.sdss.org/optical/spectrum/view/data/format=csv/spec=lite?plateid=4004&mjd=55321&fiberid=26\n"
     ]
    },
    {
     "data": {
      "text/html": [
       "<div>\n",
       "<style scoped>\n",
       "    .dataframe tbody tr th:only-of-type {\n",
       "        vertical-align: middle;\n",
       "    }\n",
       "\n",
       "    .dataframe tbody tr th {\n",
       "        vertical-align: top;\n",
       "    }\n",
       "\n",
       "    .dataframe thead th {\n",
       "        text-align: right;\n",
       "    }\n",
       "</style>\n",
       "<table border=\"1\" class=\"dataframe\">\n",
       "  <thead>\n",
       "    <tr style=\"text-align: right;\">\n",
       "      <th></th>\n",
       "      <th>λ</th>\n",
       "      <th>Flux</th>\n",
       "    </tr>\n",
       "  </thead>\n",
       "  <tbody>\n",
       "    <tr>\n",
       "      <td>0</td>\n",
       "      <td>357.0262</td>\n",
       "      <td>4.038200e-18</td>\n",
       "    </tr>\n",
       "    <tr>\n",
       "      <td>1</td>\n",
       "      <td>357.1083</td>\n",
       "      <td>3.957600e-18</td>\n",
       "    </tr>\n",
       "    <tr>\n",
       "      <td>2</td>\n",
       "      <td>357.1906</td>\n",
       "      <td>3.985000e-18</td>\n",
       "    </tr>\n",
       "    <tr>\n",
       "      <td>3</td>\n",
       "      <td>357.2728</td>\n",
       "      <td>4.054200e-18</td>\n",
       "    </tr>\n",
       "    <tr>\n",
       "      <td>4</td>\n",
       "      <td>357.3552</td>\n",
       "      <td>4.097800e-18</td>\n",
       "    </tr>\n",
       "    <tr>\n",
       "      <td>...</td>\n",
       "      <td>...</td>\n",
       "      <td>...</td>\n",
       "    </tr>\n",
       "    <tr>\n",
       "      <td>4598</td>\n",
       "      <td>1029.2001</td>\n",
       "      <td>1.480700e-18</td>\n",
       "    </tr>\n",
       "    <tr>\n",
       "      <td>4599</td>\n",
       "      <td>1029.4374</td>\n",
       "      <td>1.493100e-18</td>\n",
       "    </tr>\n",
       "    <tr>\n",
       "      <td>4600</td>\n",
       "      <td>1029.6748</td>\n",
       "      <td>1.516400e-18</td>\n",
       "    </tr>\n",
       "    <tr>\n",
       "      <td>4601</td>\n",
       "      <td>1029.9122</td>\n",
       "      <td>1.507700e-18</td>\n",
       "    </tr>\n",
       "    <tr>\n",
       "      <td>4602</td>\n",
       "      <td>1030.1486</td>\n",
       "      <td>1.508400e-18</td>\n",
       "    </tr>\n",
       "  </tbody>\n",
       "</table>\n",
       "<p>4603 rows × 2 columns</p>\n",
       "</div>"
      ],
      "text/plain": [
       "              λ          Flux\n",
       "0      357.0262  4.038200e-18\n",
       "1      357.1083  3.957600e-18\n",
       "2      357.1906  3.985000e-18\n",
       "3      357.2728  4.054200e-18\n",
       "4      357.3552  4.097800e-18\n",
       "...         ...           ...\n",
       "4598  1029.2001  1.480700e-18\n",
       "4599  1029.4374  1.493100e-18\n",
       "4600  1029.6748  1.516400e-18\n",
       "4601  1029.9122  1.507700e-18\n",
       "4602  1030.1486  1.508400e-18\n",
       "\n",
       "[4603 rows x 2 columns]"
      ]
     },
     "execution_count": 5,
     "metadata": {},
     "output_type": "execute_result"
    }
   ],
   "source": [
    "print(\"Data retrieved from\",url)\n",
    "spectrum"
   ]
  },
  {
   "cell_type": "code",
   "execution_count": 6,
   "metadata": {},
   "outputs": [],
   "source": [
    "def planck(wavelength,T,amp): #in nm\n",
    "    h = 6.626e-34 # Planck's constant, J*s\n",
    "    c = 299792458 # speed of light, m/s\n",
    "    k = 1.38064852e-23 # Boltzmann constant, J/K\n",
    "    B = amp*((2*h*(c**2))/((wavelength*0.000000001)**5))*(np.exp((h*c)/((wavelength*0.000000001)*k*T))-1)**(-1) # Planck's Law\n",
    "    return B # W/m^2/nm\n",
    "\n",
    "def wien(T):\n",
    "    b = 2.897771955e-3 # Wien's displacement constant, in m*K\n",
    "    λ_max = (b/T)*1e9 # Wien's Law, with λ converted from nm\n",
    "    return λ_max # in K"
   ]
  },
  {
   "cell_type": "code",
   "execution_count": 7,
   "metadata": {},
   "outputs": [
    {
     "data": {
      "image/png": "[encoded data removed]",
      "text/plain": [
       "<Figure size 432x288 with 1 Axes>"
      ]
     },
     "metadata": {},
     "output_type": "display_data"
    }
   ],
   "source": [
    "spectrum['Denoised'] = pd.Series(spectrum['Flux']).rolling(25).mean()\n",
    "spectrum.dropna(subset=['Denoised'],inplace=True)\n",
    "#cutoff = spectrum.query('λ > 500 and λ < 1000')\n",
    "#spectrum = cutoff\n",
    "\n",
    "plt.plot(spectrum['λ'], spectrum['Flux'],\"-r\",alpha=0.8,label='Raw')\n",
    "plt.plot(spectrum['λ'], spectrum['Denoised'], \"-b\",label='Smoothed')\n",
    "plt.legend()\n",
    "plt.xlabel('Wavelength (nm)')\n",
    "plt.ylabel('Spectral irradiance')\n",
    "plt.title('Spectrum data smoothed using IIR Filter')\n",
    "plt.show()"
   ]
  },
  {
   "cell_type": "code",
   "execution_count": 8,
   "metadata": {},
   "outputs": [
    {
     "name": "stdout",
     "output_type": "stream",
     "text": [
      "R-squared: 0.9023359204987349 \n",
      "\n",
      "Obj temperature: 6807.78581387979 ± 12.97737811257366 K\n",
      "Scaling factor:  1.1214150600268557e-31 ± 9.460203661026293e-34\n",
      "Spectrum peak λ: 425.6555705809648 ± 0.8098643992856296 nm\n"
     ]
    }
   ],
   "source": [
    "fit_params, cov_mat = curve_fit(planck, spectrum['λ'], spectrum['Denoised'], p0=[7000,1e-31]) # (function,x,data,init_vals)\n",
    "uncertainties = np.sqrt(np.diag(cov_mat))\n",
    "T = fit_params[0]\n",
    "λ_max = wien(T) # in nm, from temperature in K\n",
    "\n",
    "spectrum['Scaled BB'] = planck(spectrum['λ'], *fit_params)\n",
    "spectrum['Blackbody'] = planck(spectrum['λ'],T,1) # calculate absolute spectral luminosity\n",
    "\n",
    "fit_residual = spectrum['Flux'] - spectrum['Scaled BB']\n",
    "fit_Rsquared = 1 - np.var(fit_residual)/np.var(spectrum['Flux'])\n",
    "\n",
    "print('R-squared:',fit_Rsquared,'\\n')\n",
    "print('Obj temperature:',fit_params[0],'\\u00b1',uncertainties[0],'K')\n",
    "print('Scaling factor: ',fit_params[1],'\\u00b1',uncertainties[1])\n",
    "print('Spectrum peak λ:',λ_max,'\\u00b1',wien(T)-wien(T+uncertainties[0]),'nm')"
   ]
  },
  {
   "cell_type": "code",
   "execution_count": 10,
   "metadata": {},
   "outputs": [
    {
     "data": {
      "image/png": "[encoded data removed]",
      "text/plain": [
       "<Figure size 432x288 with 1 Axes>"
      ]
     },
     "metadata": {},
     "output_type": "display_data"
    },
    {
     "data": {
      "text/html": [
       "<div>\n",
       "<style scoped>\n",
       "    .dataframe tbody tr th:only-of-type {\n",
       "        vertical-align: middle;\n",
       "    }\n",
       "\n",
       "    .dataframe tbody tr th {\n",
       "        vertical-align: top;\n",
       "    }\n",
       "\n",
       "    .dataframe thead th {\n",
       "        text-align: right;\n",
       "    }\n",
       "</style>\n",
       "<table border=\"1\" class=\"dataframe\">\n",
       "  <thead>\n",
       "    <tr style=\"text-align: right;\">\n",
       "      <th></th>\n",
       "      <th>λ</th>\n",
       "      <th>Flux</th>\n",
       "      <th>Denoised</th>\n",
       "      <th>Scaled BB</th>\n",
       "      <th>Blackbody</th>\n",
       "    </tr>\n",
       "  </thead>\n",
       "  <tbody>\n",
       "    <tr>\n",
       "      <td>24</td>\n",
       "      <td>359.0046</td>\n",
       "      <td>3.915400e-18</td>\n",
       "      <td>4.055128e-18</td>\n",
       "      <td>6.234032e-18</td>\n",
       "      <td>5.559076e+13</td>\n",
       "    </tr>\n",
       "    <tr>\n",
       "      <td>25</td>\n",
       "      <td>359.0873</td>\n",
       "      <td>4.070500e-18</td>\n",
       "      <td>4.056420e-18</td>\n",
       "      <td>6.235328e-18</td>\n",
       "      <td>5.560232e+13</td>\n",
       "    </tr>\n",
       "    <tr>\n",
       "      <td>26</td>\n",
       "      <td>359.1700</td>\n",
       "      <td>4.261200e-18</td>\n",
       "      <td>4.068564e-18</td>\n",
       "      <td>6.236622e-18</td>\n",
       "      <td>5.561386e+13</td>\n",
       "    </tr>\n",
       "    <tr>\n",
       "      <td>27</td>\n",
       "      <td>359.2526</td>\n",
       "      <td>4.413100e-18</td>\n",
       "      <td>4.085688e-18</td>\n",
       "      <td>6.237913e-18</td>\n",
       "      <td>5.562537e+13</td>\n",
       "    </tr>\n",
       "    <tr>\n",
       "      <td>28</td>\n",
       "      <td>359.3354</td>\n",
       "      <td>4.466500e-18</td>\n",
       "      <td>4.102180e-18</td>\n",
       "      <td>6.239205e-18</td>\n",
       "      <td>5.563689e+13</td>\n",
       "    </tr>\n",
       "    <tr>\n",
       "      <td>...</td>\n",
       "      <td>...</td>\n",
       "      <td>...</td>\n",
       "      <td>...</td>\n",
       "      <td>...</td>\n",
       "      <td>...</td>\n",
       "    </tr>\n",
       "    <tr>\n",
       "      <td>4598</td>\n",
       "      <td>1029.2001</td>\n",
       "      <td>1.480700e-18</td>\n",
       "      <td>1.517800e-18</td>\n",
       "      <td>1.702232e-18</td>\n",
       "      <td>1.517932e+13</td>\n",
       "    </tr>\n",
       "    <tr>\n",
       "      <td>4599</td>\n",
       "      <td>1029.4374</td>\n",
       "      <td>1.493100e-18</td>\n",
       "      <td>1.516360e-18</td>\n",
       "      <td>1.701195e-18</td>\n",
       "      <td>1.517007e+13</td>\n",
       "    </tr>\n",
       "    <tr>\n",
       "      <td>4600</td>\n",
       "      <td>1029.6748</td>\n",
       "      <td>1.516400e-18</td>\n",
       "      <td>1.515916e-18</td>\n",
       "      <td>1.700158e-18</td>\n",
       "      <td>1.516082e+13</td>\n",
       "    </tr>\n",
       "    <tr>\n",
       "      <td>4601</td>\n",
       "      <td>1029.9122</td>\n",
       "      <td>1.507700e-18</td>\n",
       "      <td>1.515364e-18</td>\n",
       "      <td>1.699121e-18</td>\n",
       "      <td>1.515158e+13</td>\n",
       "    </tr>\n",
       "    <tr>\n",
       "      <td>4602</td>\n",
       "      <td>1030.1486</td>\n",
       "      <td>1.508400e-18</td>\n",
       "      <td>1.514980e-18</td>\n",
       "      <td>1.698090e-18</td>\n",
       "      <td>1.514238e+13</td>\n",
       "    </tr>\n",
       "  </tbody>\n",
       "</table>\n",
       "<p>4579 rows × 5 columns</p>\n",
       "</div>"
      ],
      "text/plain": [
       "              λ          Flux      Denoised     Scaled BB     Blackbody\n",
       "24     359.0046  3.915400e-18  4.055128e-18  6.234032e-18  5.559076e+13\n",
       "25     359.0873  4.070500e-18  4.056420e-18  6.235328e-18  5.560232e+13\n",
       "26     359.1700  4.261200e-18  4.068564e-18  6.236622e-18  5.561386e+13\n",
       "27     359.2526  4.413100e-18  4.085688e-18  6.237913e-18  5.562537e+13\n",
       "28     359.3354  4.466500e-18  4.102180e-18  6.239205e-18  5.563689e+13\n",
       "...         ...           ...           ...           ...           ...\n",
       "4598  1029.2001  1.480700e-18  1.517800e-18  1.702232e-18  1.517932e+13\n",
       "4599  1029.4374  1.493100e-18  1.516360e-18  1.701195e-18  1.517007e+13\n",
       "4600  1029.6748  1.516400e-18  1.515916e-18  1.700158e-18  1.516082e+13\n",
       "4601  1029.9122  1.507700e-18  1.515364e-18  1.699121e-18  1.515158e+13\n",
       "4602  1030.1486  1.508400e-18  1.514980e-18  1.698090e-18  1.514238e+13\n",
       "\n",
       "[4579 rows x 5 columns]"
      ]
     },
     "execution_count": 10,
     "metadata": {},
     "output_type": "execute_result"
    }
   ],
   "source": [
    "plt.plot(spectrum['λ'],spectrum['Denoised'],color='red')\n",
    "plt.ylabel(\"Measured spectral irradiance (W m$^{-2}$ nm$^{-1}$)\")\n",
    "plt.xlabel(\"λ (nm)\")\n",
    "plt.plot(spectrum['λ'], spectrum['Scaled BB'], color='blue')\n",
    "#plt.twinx()\n",
    "#plt.plot(spectrum['λ'],spectrum['Blackbody'],color='black')\n",
    "#plt.ylabel(\"Inferred spectral exitance (W m$^{-2}$ nm$^{-1}$)\")\n",
    "plt.title(\"Blackbody radiation of a %dK object\" %T)\n",
    "plt.show()\n",
    "spectrum"
   ]
  },
  {
   "cell_type": "code",
   "execution_count": null,
   "metadata": {},
   "outputs": [],
   "source": []
  }
 ],
 "metadata": {
  "kernelspec": {
   "display_name": "Python 3",
   "language": "python",
   "name": "python3"
  },
  "language_info": {
   "codemirror_mode": {
    "name": "ipython",
    "version": 3
   },
   "file_extension": ".py",
   "mimetype": "text/x-python",
   "name": "python",
   "nbconvert_exporter": "python",
   "pygments_lexer": "ipython3",
   "version": "3.6.6"
  }
 },
 "nbformat": 4,
 "nbformat_minor": 2
}
